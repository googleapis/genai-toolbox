{
  "nbformat": 4,
  "nbformat_minor": 0,
  "metadata": {
    "colab": {
      "provenance": [],
      "collapsed_sections": [
        "04iysrm_L_7v"
      ],
      "toc_visible": true
    },
    "kernelspec": {
      "name": "python3",
      "display_name": "Python 3"
    },
    "language_info": {
      "name": "python"
    }
  },
  "cells": [
    {
      "cell_type": "code",
      "source": [
        "# Copyright 2025 Google LLC\n",
        "#\n",
        "# Licensed under the Apache License, Version 2.0 (the \"License\");\n",
        "# you may not use this file except in compliance with the License.\n",
        "# You may obtain a copy of the License at\n",
        "#\n",
        "#     https://www.apache.org/licenses/LICENSE-2.0\n",
        "#\n",
        "# Unless required by applicable law or agreed to in writing, software\n",
        "# distributed under the License is distributed on an \"AS IS\" BASIS,\n",
        "# WITHOUT WARRANTIES OR CONDITIONS OF ANY KIND, either express or implied.\n",
        "# See the License for the specific language governing permissions and\n",
        "# limitations under the License."
      ],
      "metadata": {
        "id": "KWS7OXcEJptT"
      },
      "execution_count": null,
      "outputs": []
    },
    {
      "cell_type": "markdown",
      "source": [
        "TODO: Add correct link here\n",
        "\n",
        "[![Open In Colab](https://colab.research.google.com/assets/colab-badge.svg)](https://github.com/googleapis/genai-toolbox/tree/main/docs/en/getting-started/colab_quickstart.ipynb)"
      ],
      "metadata": {
        "id": "5sZ7_HCYJm4y"
      }
    },
    {
      "cell_type": "markdown",
      "source": [
        "# Quickstart\n",
        "\n",
        "This guide demonstrates how to quickly run Toolbox end-to-end in Google Colab using Python, PostgreSQL, and LlamaIndex.\n",
        "\n",
        "Within this Colab environment, you'll\n",
        "- Set up a `PostgreSQL database`\n",
        "- Launch a Toolbox server,\n",
        "- Connect to Toolbox and develop a sample `Hotel Booking` application."
      ],
      "metadata": {
        "id": "DMLivT-MIcmV"
      }
    },
    {
      "cell_type": "markdown",
      "source": [
        "## Step 1: Set up your database\n",
        "\n",
        "In this section, we will\n",
        "1. Create a database\n",
        "1. Create a user to access the database\n",
        "1. Insert dummy data into the database."
      ],
      "metadata": {
        "id": "nBWNgqEWIoSG"
      }
    },
    {
      "cell_type": "code",
      "source": [
        "# Install postgresql to run a DB server on colab\n",
        "%%shell\n",
        "\n",
        "sudo apt-get -y -qq update > /dev/null 2>&1\n",
        "sudo apt-get -y -qq install postgresql > /dev/null 2>&1"
      ],
      "metadata": {
        "colab": {
          "base_uri": "https://localhost:8080/"
        },
        "id": "EeFDe-j4HUmn",
        "outputId": "1804762a-506c-4083-c5b4-6dff71fcc78f"
      },
      "execution_count": null,
      "outputs": [
        {
          "output_type": "execute_result",
          "data": {
            "text/plain": []
          },
          "metadata": {},
          "execution_count": 2
        }
      ]
    },
    {
      "cell_type": "code",
      "source": [
        "# Start the postgresql server.\n",
        "!sudo service postgresql start"
      ],
      "metadata": {
        "colab": {
          "base_uri": "https://localhost:8080/"
        },
        "id": "5D9t-ZB1Dre-",
        "outputId": "d2c3ec9d-21fe-4a3d-abaf-ba2c2d8be739"
      },
      "execution_count": null,
      "outputs": [
        {
          "output_type": "stream",
          "name": "stdout",
          "text": [
            " * Starting PostgreSQL 14 database server\n",
            "   ...done.\n"
          ]
        }
      ]
    },
    {
      "cell_type": "code",
      "source": [
        "# Check that postgres is running\n",
        "!sudo lsof -i :5432"
      ],
      "metadata": {
        "colab": {
          "base_uri": "https://localhost:8080/"
        },
        "id": "qJJbo5T7sjyd",
        "outputId": "e069c516-4dfa-4031-b7ce-51ab4564d16c"
      },
      "execution_count": null,
      "outputs": [
        {
          "output_type": "stream",
          "name": "stdout",
          "text": [
            "COMMAND   PID     USER   FD   TYPE DEVICE SIZE/OFF NODE NAME\n",
            "postgres 7582 postgres    5u  IPv4 159385      0t0  TCP localhost:postgresql (LISTEN)\n"
          ]
        }
      ]
    },
    {
      "cell_type": "code",
      "source": [
        "# Create a dedicated database and a user to access our DB securely\n",
        "%%shell\n",
        "\n",
        "sudo -u postgres psql << EOF\n",
        "CREATE USER toolbox_user WITH PASSWORD 'my-password';\n",
        "CREATE DATABASE toolbox_db;\n",
        "GRANT ALL PRIVILEGES ON DATABASE toolbox_db TO toolbox_user;\n",
        "ALTER DATABASE toolbox_db OWNER TO toolbox_user;\n",
        "EOF"
      ],
      "metadata": {
        "colab": {
          "base_uri": "https://localhost:8080/"
        },
        "id": "zTtKdvbwAag3",
        "outputId": "b8278535-0bcc-4fc7-d11a-306991f66753"
      },
      "execution_count": null,
      "outputs": [
        {
          "output_type": "stream",
          "name": "stdout",
          "text": [
            "CREATE ROLE\n",
            "CREATE DATABASE\n",
            "GRANT\n",
            "ALTER DATABASE\n"
          ]
        },
        {
          "output_type": "execute_result",
          "data": {
            "text/plain": []
          },
          "metadata": {},
          "execution_count": 5
        }
      ]
    },
    {
      "cell_type": "markdown",
      "source": [
        "> **Tip:** For a real application, it’s best to follow the principle of least permission and only grant the privileges your application needs.\n",
        "\n"
      ],
      "metadata": {
        "id": "zVx18ijjrWSO"
      }
    },
    {
      "cell_type": "code",
      "source": [
        "# Connect to the database with the new user and create a hotels table.\n",
        "%%shell\n",
        "\n",
        "export PGPASSWORD=my-password\n",
        "psql -h 127.0.0.1 -U toolbox_user -d toolbox_db --no-password << EOF\n",
        "CREATE TABLE hotels(\n",
        "   id            INTEGER NOT NULL PRIMARY KEY,\n",
        "   name          VARCHAR NOT NULL,\n",
        "   location      VARCHAR NOT NULL,\n",
        "   price_tier    VARCHAR NOT NULL,\n",
        "   checkin_date  DATE    NOT NULL,\n",
        "   checkout_date DATE    NOT NULL,\n",
        "   booked        BIT     NOT NULL\n",
        ");\n",
        "INSERT INTO hotels(id, name, location, price_tier, checkin_date, checkout_date, booked)\n",
        "VALUES\n",
        "  (1, 'Hilton Basel', 'Basel', 'Luxury', '2024-04-22', '2024-04-20', B'0'),\n",
        "  (2, 'Marriott Zurich', 'Zurich', 'Upscale', '2024-04-14', '2024-04-21', B'0'),\n",
        "  (3, 'Hyatt Regency Basel', 'Basel', 'Upper Upscale', '2024-04-02', '2024-04-20', B'0'),\n",
        "  (4, 'Radisson Blu Lucerne', 'Lucerne', 'Midscale', '2024-04-24', '2024-04-05', B'0'),\n",
        "  (5, 'Best Western Bern', 'Bern', 'Upper Midscale', '2024-04-23', '2024-04-01', B'0'),\n",
        "  (6, 'InterContinental Geneva', 'Geneva', 'Luxury', '2024-04-23', '2024-04-28', B'0'),\n",
        "  (7, 'Sheraton Zurich', 'Zurich', 'Upper Upscale', '2024-04-27', '2024-04-02', B'0'),\n",
        "  (8, 'Holiday Inn Basel', 'Basel', 'Upper Midscale', '2024-04-24', '2024-04-09', B'0'),\n",
        "  (9, 'Courtyard Zurich', 'Zurich', 'Upscale', '2024-04-03', '2024-04-13', B'0'),\n",
        "  (10, 'Comfort Inn Bern', 'Bern', 'Midscale', '2024-04-04', '2024-04-16', B'0');\n",
        "SELECT * from hotels;\n",
        "EOF"
      ],
      "metadata": {
        "colab": {
          "base_uri": "https://localhost:8080/"
        },
        "id": "6t_nLJIHCRgy",
        "outputId": "add11843-4fed-4a6d-be40-8856dfabf0b8"
      },
      "execution_count": null,
      "outputs": [
        {
          "output_type": "stream",
          "name": "stdout",
          "text": [
            "CREATE TABLE\n",
            "INSERT 0 10\n",
            " id |          name           | location |   price_tier   | checkin_date | checkout_date | booked \n",
            "----+-------------------------+----------+----------------+--------------+---------------+--------\n",
            "  1 | Hilton Basel            | Basel    | Luxury         | 2024-04-22   | 2024-04-20    | 0\n",
            "  2 | Marriott Zurich         | Zurich   | Upscale        | 2024-04-14   | 2024-04-21    | 0\n",
            "  3 | Hyatt Regency Basel     | Basel    | Upper Upscale  | 2024-04-02   | 2024-04-20    | 0\n",
            "  4 | Radisson Blu Lucerne    | Lucerne  | Midscale       | 2024-04-24   | 2024-04-05    | 0\n",
            "  5 | Best Western Bern       | Bern     | Upper Midscale | 2024-04-23   | 2024-04-01    | 0\n",
            "  6 | InterContinental Geneva | Geneva   | Luxury         | 2024-04-23   | 2024-04-28    | 0\n",
            "  7 | Sheraton Zurich         | Zurich   | Upper Upscale  | 2024-04-27   | 2024-04-02    | 0\n",
            "  8 | Holiday Inn Basel       | Basel    | Upper Midscale | 2024-04-24   | 2024-04-09    | 0\n",
            "  9 | Courtyard Zurich        | Zurich   | Upscale        | 2024-04-03   | 2024-04-13    | 0\n",
            " 10 | Comfort Inn Bern        | Bern     | Midscale       | 2024-04-04   | 2024-04-16    | 0\n",
            "(10 rows)\n",
            "\n"
          ]
        },
        {
          "output_type": "execute_result",
          "data": {
            "text/plain": []
          },
          "metadata": {},
          "execution_count": 6
        }
      ]
    },
    {
      "cell_type": "code",
      "source": [
        "# Check that database is running\n",
        "!sudo lsof -i :5432"
      ],
      "metadata": {
        "colab": {
          "base_uri": "https://localhost:8080/"
        },
        "id": "rw5fBXxpJ3-Q",
        "outputId": "3899e103-d38e-4166-c5f4-7c9afffb8e43"
      },
      "execution_count": null,
      "outputs": [
        {
          "output_type": "stream",
          "name": "stdout",
          "text": [
            "COMMAND   PID     USER   FD   TYPE DEVICE SIZE/OFF NODE NAME\n",
            "postgres 7582 postgres    5u  IPv4 159385      0t0  TCP localhost:postgresql (LISTEN)\n"
          ]
        }
      ]
    },
    {
      "cell_type": "markdown",
      "source": [
        "## Step 2: Install and configure toolbox\n",
        "\n",
        "In this section, we will\n",
        "1. Download the latest version of the toolbox binary.\n",
        "2. Create a toolbox config file.\n",
        "3. Start a toolbox server using the config file.\n",
        "\n"
      ],
      "metadata": {
        "id": "EPuheP8DIt3p"
      }
    },
    {
      "cell_type": "markdown",
      "source": [
        "Download the [latest](https://github.com/googleapis/genai-toolbox/releases) version of Toolbox as a binary."
      ],
      "metadata": {
        "id": "Bl1IeaqZbMYh"
      }
    },
    {
      "cell_type": "code",
      "source": [
        "! curl -O https://storage.googleapis.com/genai-toolbox/v0.2.0/linux/amd64/toolbox\n",
        "\n",
        "# Make the binary executable\n",
        "! chmod +x toolbox"
      ],
      "metadata": {
        "colab": {
          "base_uri": "https://localhost:8080/"
        },
        "id": "lbsQ1Aa-IszB",
        "outputId": "5a9e37e2-202c-4909-d789-3504330ceac2"
      },
      "execution_count": null,
      "outputs": [
        {
          "output_type": "stream",
          "name": "stdout",
          "text": [
            "  % Total    % Received % Xferd  Average Speed   Time    Time     Time  Current\n",
            "                                 Dload  Upload   Total   Spent    Left  Speed\n",
            "100 61.2M  100 61.2M    0     0  37.7M      0  0:00:01  0:00:01 --:--:-- 37.7M\n"
          ]
        }
      ]
    },
    {
      "cell_type": "code",
      "source": [
        "TOOLBOX_BINARY_PATH = \"/content/toolbox\"\n",
        "SERVER_PORT = 5000"
      ],
      "metadata": {
        "id": "Ovlzi2RVJGM5"
      },
      "execution_count": null,
      "outputs": []
    },
    {
      "cell_type": "markdown",
      "source": [
        "> Note: To include a literal dollar sign (e.g., $1) as part of your SQL statement within the Python string for tools.yml, you must escape both the backslash and the dollar sign. Use \\\\\\$1 in Python to output \\$1 in the tools.yml file.\n",
        "\n",
        "> Note: You can also set up Colab secrets to store any sensitive information like passwords. You can easily add secrets through the left panel:\n",
        "\n",
        "<img src=\"https://services.google.com/fh/files/misc/colab_secret.png\" alt=\"Colab Secrets\" width=\"400\"/>\n"
      ],
      "metadata": {
        "id": "4HQwVY5Pu1Xi"
      }
    },
    {
      "cell_type": "markdown",
      "source": [
        "Create a tools file with the following functions:\n",
        "\n",
        "- `Database Connection`: It includes details for connecting to our hotels database.\n",
        "- `Tool Definitions`: It defines five tools for database interaction:\n",
        "  - `search-hotels-by-name`\n",
        "  - `search-hotels-by-location`\n",
        "  - `book-hotel`\n",
        "  - `update-hotel`\n",
        "  - `cancel-hotel`\n",
        "\n",
        "Our application will leverage these tools to interact with the hotels database.\n",
        "\n",
        "For detailed configuration options, please refer to the [toolbox documentation](https://googleapis.github.io/genai-toolbox/getting-started/configure/).\n",
        "\n"
      ],
      "metadata": {
        "id": "KNg7v_FeTYJu"
      }
    },
    {
      "cell_type": "code",
      "source": [
        "# Create a tools file at runtime.\n",
        "# You can also upload a tools file and use that to run toolbox.\n",
        "tools_file_name = \"tools.yml\"\n",
        "file_content = f\"\"\"\n",
        "sources:\n",
        "  my-pg-source:\n",
        "    kind: postgres\n",
        "    host: 127.0.0.1\n",
        "    port: 5432\n",
        "    database: toolbox_db\n",
        "    user: toolbox_user\n",
        "    password: my-password\n",
        "tools:\n",
        "  search-hotels-by-name:\n",
        "    kind: postgres-sql\n",
        "    source: my-pg-source\n",
        "    description: Search for hotels based on name.\n",
        "    parameters:\n",
        "      - name: name\n",
        "        type: string\n",
        "        description: The name of the hotel.\n",
        "    statement: SELECT * FROM hotels WHERE name ILIKE '%' || \\$1 || '%';\n",
        "  search-hotels-by-location:\n",
        "    kind: postgres-sql\n",
        "    source: my-pg-source\n",
        "    description: Search for hotels based on location.\n",
        "    parameters:\n",
        "      - name: location\n",
        "        type: string\n",
        "        description: The location of the hotel.\n",
        "    statement: SELECT * FROM hotels WHERE location ILIKE '%' || \\$1 || '%';\n",
        "  book-hotel:\n",
        "    kind: postgres-sql\n",
        "    source: my-pg-source\n",
        "    description: >-\n",
        "       Book a hotel by its ID. If the hotel is successfully booked, returns a NULL, raises an error if not.\n",
        "    parameters:\n",
        "      - name: hotel_id\n",
        "        type: string\n",
        "        description: The ID of the hotel to book.\n",
        "    statement: UPDATE hotels SET booked = B'1' WHERE id = \\$1;\n",
        "  update-hotel:\n",
        "    kind: postgres-sql\n",
        "    source: my-pg-source\n",
        "    description: >-\n",
        "      Update a hotel's check-in and check-out dates by its ID. Returns a message\n",
        "      indicating  whether the hotel was successfully updated or not.\n",
        "    parameters:\n",
        "      - name: hotel_id\n",
        "        type: string\n",
        "        description: The ID of the hotel to update.\n",
        "      - name: checkin_date\n",
        "        type: string\n",
        "        description: The new check-in date of the hotel.\n",
        "      - name: checkout_date\n",
        "        type: string\n",
        "        description: The new check-out date of the hotel.\n",
        "    statement: >-\n",
        "      UPDATE hotels SET checkin_date = CAST(\\$2 as date), checkout_date = CAST(\\$3\n",
        "      as date) WHERE id = \\$1;\n",
        "  cancel-hotel:\n",
        "    kind: postgres-sql\n",
        "    source: my-pg-source\n",
        "    description: Cancel a hotel by its ID.\n",
        "    parameters:\n",
        "      - name: hotel_id\n",
        "        type: string\n",
        "        description: The ID of the hotel to cancel.\n",
        "    statement: UPDATE hotels SET booked = B'0' WHERE id = \\$1;\n",
        "\"\"\""
      ],
      "metadata": {
        "id": "Jje8N5fScchw"
      },
      "execution_count": null,
      "outputs": []
    },
    {
      "cell_type": "code",
      "source": [
        "# Write the file content into the tools file.\n",
        "! echo \"{file_content}\" > \"{tools_file_name}\""
      ],
      "metadata": {
        "id": "JPNXr4y58tMH"
      },
      "execution_count": null,
      "outputs": []
    },
    {
      "cell_type": "code",
      "source": [
        "TOOLS_FILE_PATH = f\"/content/{tools_file_name}\""
      ],
      "metadata": {
        "id": "5ZH5VuYzdP_W"
      },
      "execution_count": null,
      "outputs": []
    },
    {
      "cell_type": "code",
      "source": [
        "# Start a toolbox server\n",
        "! nohup {TOOLBOX_BINARY_PATH} --tools_file {TOOLS_FILE_PATH} -p {SERVER_PORT} > toolbox.log 2>&1 &"
      ],
      "metadata": {
        "id": "iZGQzYUF-pho"
      },
      "execution_count": null,
      "outputs": []
    },
    {
      "cell_type": "code",
      "source": [
        "# Check if toolbox is running\n",
        "!sudo lsof -i :{SERVER_PORT}"
      ],
      "metadata": {
        "colab": {
          "base_uri": "https://localhost:8080/"
        },
        "id": "1PJpKOBieKOV",
        "outputId": "74efef5c-e657-4f74-c4e5-2d4c046c85f6"
      },
      "execution_count": null,
      "outputs": [
        {
          "output_type": "stream",
          "name": "stdout",
          "text": [
            "COMMAND  PID USER   FD   TYPE DEVICE SIZE/OFF NODE NAME\n",
            "toolbox 7640 root    6u  IPv4 161323      0t0  TCP localhost:5000 (LISTEN)\n"
          ]
        }
      ]
    },
    {
      "cell_type": "markdown",
      "source": [
        "## Step 3: Connect your agent to Toolbox\n",
        "\n",
        "In this section, you will\n",
        "1. Establish a connection to the tools by creating a Toolbox client.\n",
        "2. Build an agent that leverages the tools and an LLM for `Hotel Booking` functionality.\n"
      ],
      "metadata": {
        "id": "4yFH4JK7JEAv"
      }
    },
    {
      "cell_type": "markdown",
      "source": [
        "> You need to authenticate as an IAM user so this notebook can access your Google Cloud Project. This access is necessary to use Google's LLM models."
      ],
      "metadata": {
        "id": "yfg-u9Y4Mu_a"
      }
    },
    {
      "cell_type": "code",
      "source": [
        "# Run this and allow access through the pop-up\n",
        "from google.colab import auth\n",
        "\n",
        "auth.authenticate_user()"
      ],
      "metadata": {
        "id": "ky64V76MMttC"
      },
      "execution_count": null,
      "outputs": []
    },
    {
      "cell_type": "code",
      "source": [
        "# @markdown Please fill in the value below with your GCP project ID and then run the cell.\n",
        "\n",
        "# Please fill in these values.\n",
        "project_id = \"twisha-dev\"  # @param {type:\"string\"}\n",
        "\n",
        "# Quick input validations.\n",
        "assert project_id, \"⚠️ Please provide a Google Cloud project ID\"\n",
        "\n",
        "# Configure gcloud.\n",
        "!gcloud config set project {project_id}"
      ],
      "metadata": {
        "colab": {
          "base_uri": "https://localhost:8080/"
        },
        "id": "u0Jc-0YNdhQd",
        "outputId": "69865c33-8524-4158-947a-cccec3584e12"
      },
      "execution_count": null,
      "outputs": [
        {
          "output_type": "stream",
          "name": "stdout",
          "text": [
            "Updated property [core/project].\n"
          ]
        }
      ]
    },
    {
      "cell_type": "markdown",
      "source": [
        "> You can either use LangGraph or LlamaIndex to develop a toolbox based application. Run one of the `Connect Using LangGraph` or `Connect using LlamaIndex` sections below.\n",
        "\n"
      ],
      "metadata": {
        "id": "J46eLkFbNhWq"
      }
    },
    {
      "cell_type": "markdown",
      "source": [
        "### Connect Using LangGraph"
      ],
      "metadata": {
        "id": "pbapNMhhL33S"
      }
    },
    {
      "cell_type": "code",
      "source": [
        "# Install the Toolbox Langchain package\n",
        "!pip install toolbox-langchain --quiet\n",
        "!pip install langgraph --quiet\n",
        "\n",
        "# Install the Langchain llm package\n",
        "# TODO(developer): replace this with another model if needed\n",
        "! pip install langchain-google-vertexai --quiet\n",
        "# ! pip install langchain-google-genai\n",
        "# ! pip install langchain-anthropic"
      ],
      "metadata": {
        "colab": {
          "base_uri": "https://localhost:8080/"
        },
        "id": "uraBx8mbMXnV",
        "outputId": "0c31f8fa-52a1-4191-b0ea-6beee25df2ca"
      },
      "execution_count": null,
      "outputs": [
        {
          "output_type": "stream",
          "name": "stdout",
          "text": [
            "Collecting langgraph\n",
            "  Downloading langgraph-0.3.16-py3-none-any.whl.metadata (7.5 kB)\n",
            "Requirement already satisfied: langchain-core<0.4,>=0.1 in /usr/local/lib/python3.11/dist-packages (from langgraph) (0.3.45)\n",
            "Collecting langgraph-checkpoint<3.0.0,>=2.0.10 (from langgraph)\n",
            "  Downloading langgraph_checkpoint-2.0.21-py3-none-any.whl.metadata (4.6 kB)\n",
            "Collecting langgraph-prebuilt<0.2,>=0.1.1 (from langgraph)\n",
            "  Downloading langgraph_prebuilt-0.1.3-py3-none-any.whl.metadata (5.0 kB)\n",
            "Collecting langgraph-sdk<0.2.0,>=0.1.42 (from langgraph)\n",
            "  Downloading langgraph_sdk-0.1.57-py3-none-any.whl.metadata (1.8 kB)\n",
            "Requirement already satisfied: langsmith<0.4,>=0.1.125 in /usr/local/lib/python3.11/dist-packages (from langchain-core<0.4,>=0.1->langgraph) (0.3.15)\n",
            "Requirement already satisfied: tenacity!=8.4.0,<10.0.0,>=8.1.0 in /usr/local/lib/python3.11/dist-packages (from langchain-core<0.4,>=0.1->langgraph) (9.0.0)\n",
            "Requirement already satisfied: jsonpatch<2.0,>=1.33 in /usr/local/lib/python3.11/dist-packages (from langchain-core<0.4,>=0.1->langgraph) (1.33)\n",
            "Requirement already satisfied: PyYAML>=5.3 in /usr/local/lib/python3.11/dist-packages (from langchain-core<0.4,>=0.1->langgraph) (6.0.2)\n",
            "Requirement already satisfied: packaging<25,>=23.2 in /usr/local/lib/python3.11/dist-packages (from langchain-core<0.4,>=0.1->langgraph) (24.2)\n",
            "Requirement already satisfied: typing-extensions>=4.7 in /usr/local/lib/python3.11/dist-packages (from langchain-core<0.4,>=0.1->langgraph) (4.12.2)\n",
            "Requirement already satisfied: pydantic<3.0.0,>=2.5.2 in /usr/local/lib/python3.11/dist-packages (from langchain-core<0.4,>=0.1->langgraph) (2.10.6)\n",
            "Requirement already satisfied: msgpack<2.0.0,>=1.1.0 in /usr/local/lib/python3.11/dist-packages (from langgraph-checkpoint<3.0.0,>=2.0.10->langgraph) (1.1.0)\n",
            "Requirement already satisfied: httpx>=0.25.2 in /usr/local/lib/python3.11/dist-packages (from langgraph-sdk<0.2.0,>=0.1.42->langgraph) (0.28.1)\n",
            "Requirement already satisfied: orjson>=3.10.1 in /usr/local/lib/python3.11/dist-packages (from langgraph-sdk<0.2.0,>=0.1.42->langgraph) (3.10.15)\n",
            "Requirement already satisfied: anyio in /usr/local/lib/python3.11/dist-packages (from httpx>=0.25.2->langgraph-sdk<0.2.0,>=0.1.42->langgraph) (4.9.0)\n",
            "Requirement already satisfied: certifi in /usr/local/lib/python3.11/dist-packages (from httpx>=0.25.2->langgraph-sdk<0.2.0,>=0.1.42->langgraph) (2025.1.31)\n",
            "Requirement already satisfied: httpcore==1.* in /usr/local/lib/python3.11/dist-packages (from httpx>=0.25.2->langgraph-sdk<0.2.0,>=0.1.42->langgraph) (1.0.7)\n",
            "Requirement already satisfied: idna in /usr/local/lib/python3.11/dist-packages (from httpx>=0.25.2->langgraph-sdk<0.2.0,>=0.1.42->langgraph) (3.10)\n",
            "Requirement already satisfied: h11<0.15,>=0.13 in /usr/local/lib/python3.11/dist-packages (from httpcore==1.*->httpx>=0.25.2->langgraph-sdk<0.2.0,>=0.1.42->langgraph) (0.14.0)\n",
            "Requirement already satisfied: jsonpointer>=1.9 in /usr/local/lib/python3.11/dist-packages (from jsonpatch<2.0,>=1.33->langchain-core<0.4,>=0.1->langgraph) (3.0.0)\n",
            "Requirement already satisfied: requests<3,>=2 in /usr/local/lib/python3.11/dist-packages (from langsmith<0.4,>=0.1.125->langchain-core<0.4,>=0.1->langgraph) (2.32.3)\n",
            "Requirement already satisfied: requests-toolbelt<2.0.0,>=1.0.0 in /usr/local/lib/python3.11/dist-packages (from langsmith<0.4,>=0.1.125->langchain-core<0.4,>=0.1->langgraph) (1.0.0)\n",
            "Requirement already satisfied: zstandard<0.24.0,>=0.23.0 in /usr/local/lib/python3.11/dist-packages (from langsmith<0.4,>=0.1.125->langchain-core<0.4,>=0.1->langgraph) (0.23.0)\n",
            "Requirement already satisfied: annotated-types>=0.6.0 in /usr/local/lib/python3.11/dist-packages (from pydantic<3.0.0,>=2.5.2->langchain-core<0.4,>=0.1->langgraph) (0.7.0)\n",
            "Requirement already satisfied: pydantic-core==2.27.2 in /usr/local/lib/python3.11/dist-packages (from pydantic<3.0.0,>=2.5.2->langchain-core<0.4,>=0.1->langgraph) (2.27.2)\n",
            "Requirement already satisfied: charset-normalizer<4,>=2 in /usr/local/lib/python3.11/dist-packages (from requests<3,>=2->langsmith<0.4,>=0.1.125->langchain-core<0.4,>=0.1->langgraph) (3.4.1)\n",
            "Requirement already satisfied: urllib3<3,>=1.21.1 in /usr/local/lib/python3.11/dist-packages (from requests<3,>=2->langsmith<0.4,>=0.1.125->langchain-core<0.4,>=0.1->langgraph) (2.3.0)\n",
            "Requirement already satisfied: sniffio>=1.1 in /usr/local/lib/python3.11/dist-packages (from anyio->httpx>=0.25.2->langgraph-sdk<0.2.0,>=0.1.42->langgraph) (1.3.1)\n",
            "Downloading langgraph-0.3.16-py3-none-any.whl (134 kB)\n",
            "\u001b[2K   \u001b[90m━━━━━━━━━━━━━━━━━━━━━━━━━━━━━━━━━━━━━━━━\u001b[0m \u001b[32m134.8/134.8 kB\u001b[0m \u001b[31m3.8 MB/s\u001b[0m eta \u001b[36m0:00:00\u001b[0m\n",
            "\u001b[?25hDownloading langgraph_checkpoint-2.0.21-py3-none-any.whl (41 kB)\n",
            "\u001b[2K   \u001b[90m━━━━━━━━━━━━━━━━━━━━━━━━━━━━━━━━━━━━━━━━\u001b[0m \u001b[32m41.2/41.2 kB\u001b[0m \u001b[31m2.3 MB/s\u001b[0m eta \u001b[36m0:00:00\u001b[0m\n",
            "\u001b[?25hDownloading langgraph_prebuilt-0.1.3-py3-none-any.whl (24 kB)\n",
            "Downloading langgraph_sdk-0.1.57-py3-none-any.whl (46 kB)\n",
            "\u001b[2K   \u001b[90m━━━━━━━━━━━━━━━━━━━━━━━━━━━━━━━━━━━━━━━━\u001b[0m \u001b[32m46.0/46.0 kB\u001b[0m \u001b[31m2.9 MB/s\u001b[0m eta \u001b[36m0:00:00\u001b[0m\n",
            "\u001b[?25hInstalling collected packages: langgraph-sdk, langgraph-checkpoint, langgraph-prebuilt, langgraph\n",
            "Successfully installed langgraph-0.3.16 langgraph-checkpoint-2.0.21 langgraph-prebuilt-0.1.3 langgraph-sdk-0.1.57\n",
            "Requirement already satisfied: langchain-google-vertexai in /usr/local/lib/python3.11/dist-packages (2.0.15)\n",
            "Requirement already satisfied: google-cloud-aiplatform<2.0.0,>=1.81.0 in /usr/local/lib/python3.11/dist-packages (from langchain-google-vertexai) (1.84.0)\n",
            "Requirement already satisfied: google-cloud-storage<3.0.0,>=2.18.0 in /usr/local/lib/python3.11/dist-packages (from langchain-google-vertexai) (2.19.0)\n",
            "Requirement already satisfied: httpx<0.29.0,>=0.28.0 in /usr/local/lib/python3.11/dist-packages (from langchain-google-vertexai) (0.28.1)\n",
            "Requirement already satisfied: httpx-sse<0.5.0,>=0.4.0 in /usr/local/lib/python3.11/dist-packages (from langchain-google-vertexai) (0.4.0)\n",
            "Requirement already satisfied: langchain-core<0.4,>=0.3.31 in /usr/local/lib/python3.11/dist-packages (from langchain-google-vertexai) (0.3.45)\n",
            "Requirement already satisfied: pydantic<3.0,>=2.9 in /usr/local/lib/python3.11/dist-packages (from langchain-google-vertexai) (2.10.6)\n",
            "Requirement already satisfied: google-api-core!=2.0.*,!=2.1.*,!=2.2.*,!=2.3.*,!=2.4.*,!=2.5.*,!=2.6.*,!=2.7.*,<3.0.0dev,>=1.34.1 in /usr/local/lib/python3.11/dist-packages (from google-api-core[grpc]!=2.0.*,!=2.1.*,!=2.2.*,!=2.3.*,!=2.4.*,!=2.5.*,!=2.6.*,!=2.7.*,<3.0.0dev,>=1.34.1->google-cloud-aiplatform<2.0.0,>=1.81.0->langchain-google-vertexai) (2.24.2)\n",
            "Requirement already satisfied: google-auth<3.0.0dev,>=2.14.1 in /usr/local/lib/python3.11/dist-packages (from google-cloud-aiplatform<2.0.0,>=1.81.0->langchain-google-vertexai) (2.38.0)\n",
            "Requirement already satisfied: proto-plus<2.0.0dev,>=1.22.3 in /usr/local/lib/python3.11/dist-packages (from google-cloud-aiplatform<2.0.0,>=1.81.0->langchain-google-vertexai) (1.26.1)\n",
            "Requirement already satisfied: protobuf!=4.21.0,!=4.21.1,!=4.21.2,!=4.21.3,!=4.21.4,!=4.21.5,<6.0.0dev,>=3.20.2 in /usr/local/lib/python3.11/dist-packages (from google-cloud-aiplatform<2.0.0,>=1.81.0->langchain-google-vertexai) (5.29.3)\n",
            "Requirement already satisfied: packaging>=14.3 in /usr/local/lib/python3.11/dist-packages (from google-cloud-aiplatform<2.0.0,>=1.81.0->langchain-google-vertexai) (24.2)\n",
            "Requirement already satisfied: google-cloud-bigquery!=3.20.0,<4.0.0dev,>=1.15.0 in /usr/local/lib/python3.11/dist-packages (from google-cloud-aiplatform<2.0.0,>=1.81.0->langchain-google-vertexai) (3.29.0)\n",
            "Requirement already satisfied: google-cloud-resource-manager<3.0.0dev,>=1.3.3 in /usr/local/lib/python3.11/dist-packages (from google-cloud-aiplatform<2.0.0,>=1.81.0->langchain-google-vertexai) (1.14.2)\n",
            "Requirement already satisfied: shapely<3.0.0dev in /usr/local/lib/python3.11/dist-packages (from google-cloud-aiplatform<2.0.0,>=1.81.0->langchain-google-vertexai) (2.0.7)\n",
            "Requirement already satisfied: typing-extensions in /usr/local/lib/python3.11/dist-packages (from google-cloud-aiplatform<2.0.0,>=1.81.0->langchain-google-vertexai) (4.12.2)\n",
            "Requirement already satisfied: docstring-parser<1 in /usr/local/lib/python3.11/dist-packages (from google-cloud-aiplatform<2.0.0,>=1.81.0->langchain-google-vertexai) (0.16)\n",
            "Requirement already satisfied: google-cloud-core<3.0dev,>=2.3.0 in /usr/local/lib/python3.11/dist-packages (from google-cloud-storage<3.0.0,>=2.18.0->langchain-google-vertexai) (2.4.3)\n",
            "Requirement already satisfied: google-resumable-media>=2.7.2 in /usr/local/lib/python3.11/dist-packages (from google-cloud-storage<3.0.0,>=2.18.0->langchain-google-vertexai) (2.7.2)\n",
            "Requirement already satisfied: requests<3.0.0dev,>=2.18.0 in /usr/local/lib/python3.11/dist-packages (from google-cloud-storage<3.0.0,>=2.18.0->langchain-google-vertexai) (2.32.3)\n",
            "Requirement already satisfied: google-crc32c<2.0dev,>=1.0 in /usr/local/lib/python3.11/dist-packages (from google-cloud-storage<3.0.0,>=2.18.0->langchain-google-vertexai) (1.7.0)\n",
            "Requirement already satisfied: anyio in /usr/local/lib/python3.11/dist-packages (from httpx<0.29.0,>=0.28.0->langchain-google-vertexai) (4.9.0)\n",
            "Requirement already satisfied: certifi in /usr/local/lib/python3.11/dist-packages (from httpx<0.29.0,>=0.28.0->langchain-google-vertexai) (2025.1.31)\n",
            "Requirement already satisfied: httpcore==1.* in /usr/local/lib/python3.11/dist-packages (from httpx<0.29.0,>=0.28.0->langchain-google-vertexai) (1.0.7)\n",
            "Requirement already satisfied: idna in /usr/local/lib/python3.11/dist-packages (from httpx<0.29.0,>=0.28.0->langchain-google-vertexai) (3.10)\n",
            "Requirement already satisfied: h11<0.15,>=0.13 in /usr/local/lib/python3.11/dist-packages (from httpcore==1.*->httpx<0.29.0,>=0.28.0->langchain-google-vertexai) (0.14.0)\n",
            "Requirement already satisfied: langsmith<0.4,>=0.1.125 in /usr/local/lib/python3.11/dist-packages (from langchain-core<0.4,>=0.3.31->langchain-google-vertexai) (0.3.15)\n",
            "Requirement already satisfied: tenacity!=8.4.0,<10.0.0,>=8.1.0 in /usr/local/lib/python3.11/dist-packages (from langchain-core<0.4,>=0.3.31->langchain-google-vertexai) (9.0.0)\n",
            "Requirement already satisfied: jsonpatch<2.0,>=1.33 in /usr/local/lib/python3.11/dist-packages (from langchain-core<0.4,>=0.3.31->langchain-google-vertexai) (1.33)\n",
            "Requirement already satisfied: PyYAML>=5.3 in /usr/local/lib/python3.11/dist-packages (from langchain-core<0.4,>=0.3.31->langchain-google-vertexai) (6.0.2)\n",
            "Requirement already satisfied: annotated-types>=0.6.0 in /usr/local/lib/python3.11/dist-packages (from pydantic<3.0,>=2.9->langchain-google-vertexai) (0.7.0)\n",
            "Requirement already satisfied: pydantic-core==2.27.2 in /usr/local/lib/python3.11/dist-packages (from pydantic<3.0,>=2.9->langchain-google-vertexai) (2.27.2)\n",
            "Requirement already satisfied: googleapis-common-protos<2.0.0,>=1.56.2 in /usr/local/lib/python3.11/dist-packages (from google-api-core!=2.0.*,!=2.1.*,!=2.2.*,!=2.3.*,!=2.4.*,!=2.5.*,!=2.6.*,!=2.7.*,<3.0.0dev,>=1.34.1->google-api-core[grpc]!=2.0.*,!=2.1.*,!=2.2.*,!=2.3.*,!=2.4.*,!=2.5.*,!=2.6.*,!=2.7.*,<3.0.0dev,>=1.34.1->google-cloud-aiplatform<2.0.0,>=1.81.0->langchain-google-vertexai) (1.69.2)\n",
            "Requirement already satisfied: grpcio<2.0dev,>=1.33.2 in /usr/local/lib/python3.11/dist-packages (from google-api-core[grpc]!=2.0.*,!=2.1.*,!=2.2.*,!=2.3.*,!=2.4.*,!=2.5.*,!=2.6.*,!=2.7.*,<3.0.0dev,>=1.34.1->google-cloud-aiplatform<2.0.0,>=1.81.0->langchain-google-vertexai) (1.71.0)\n",
            "Requirement already satisfied: grpcio-status<2.0.dev0,>=1.33.2 in /usr/local/lib/python3.11/dist-packages (from google-api-core[grpc]!=2.0.*,!=2.1.*,!=2.2.*,!=2.3.*,!=2.4.*,!=2.5.*,!=2.6.*,!=2.7.*,<3.0.0dev,>=1.34.1->google-cloud-aiplatform<2.0.0,>=1.81.0->langchain-google-vertexai) (1.71.0)\n",
            "Requirement already satisfied: cachetools<6.0,>=2.0.0 in /usr/local/lib/python3.11/dist-packages (from google-auth<3.0.0dev,>=2.14.1->google-cloud-aiplatform<2.0.0,>=1.81.0->langchain-google-vertexai) (5.5.2)\n",
            "Requirement already satisfied: pyasn1-modules>=0.2.1 in /usr/local/lib/python3.11/dist-packages (from google-auth<3.0.0dev,>=2.14.1->google-cloud-aiplatform<2.0.0,>=1.81.0->langchain-google-vertexai) (0.4.1)\n",
            "Requirement already satisfied: rsa<5,>=3.1.4 in /usr/local/lib/python3.11/dist-packages (from google-auth<3.0.0dev,>=2.14.1->google-cloud-aiplatform<2.0.0,>=1.81.0->langchain-google-vertexai) (4.9)\n",
            "Requirement already satisfied: python-dateutil<3.0dev,>=2.7.3 in /usr/local/lib/python3.11/dist-packages (from google-cloud-bigquery!=3.20.0,<4.0.0dev,>=1.15.0->google-cloud-aiplatform<2.0.0,>=1.81.0->langchain-google-vertexai) (2.8.2)\n",
            "Requirement already satisfied: grpc-google-iam-v1<1.0.0,>=0.14.0 in /usr/local/lib/python3.11/dist-packages (from google-cloud-resource-manager<3.0.0dev,>=1.3.3->google-cloud-aiplatform<2.0.0,>=1.81.0->langchain-google-vertexai) (0.14.2)\n",
            "Requirement already satisfied: jsonpointer>=1.9 in /usr/local/lib/python3.11/dist-packages (from jsonpatch<2.0,>=1.33->langchain-core<0.4,>=0.3.31->langchain-google-vertexai) (3.0.0)\n",
            "Requirement already satisfied: orjson<4.0.0,>=3.9.14 in /usr/local/lib/python3.11/dist-packages (from langsmith<0.4,>=0.1.125->langchain-core<0.4,>=0.3.31->langchain-google-vertexai) (3.10.15)\n",
            "Requirement already satisfied: requests-toolbelt<2.0.0,>=1.0.0 in /usr/local/lib/python3.11/dist-packages (from langsmith<0.4,>=0.1.125->langchain-core<0.4,>=0.3.31->langchain-google-vertexai) (1.0.0)\n",
            "Requirement already satisfied: zstandard<0.24.0,>=0.23.0 in /usr/local/lib/python3.11/dist-packages (from langsmith<0.4,>=0.1.125->langchain-core<0.4,>=0.3.31->langchain-google-vertexai) (0.23.0)\n",
            "Requirement already satisfied: charset-normalizer<4,>=2 in /usr/local/lib/python3.11/dist-packages (from requests<3.0.0dev,>=2.18.0->google-cloud-storage<3.0.0,>=2.18.0->langchain-google-vertexai) (3.4.1)\n",
            "Requirement already satisfied: urllib3<3,>=1.21.1 in /usr/local/lib/python3.11/dist-packages (from requests<3.0.0dev,>=2.18.0->google-cloud-storage<3.0.0,>=2.18.0->langchain-google-vertexai) (2.3.0)\n",
            "Requirement already satisfied: numpy<3,>=1.14 in /usr/local/lib/python3.11/dist-packages (from shapely<3.0.0dev->google-cloud-aiplatform<2.0.0,>=1.81.0->langchain-google-vertexai) (2.0.2)\n",
            "Requirement already satisfied: sniffio>=1.1 in /usr/local/lib/python3.11/dist-packages (from anyio->httpx<0.29.0,>=0.28.0->langchain-google-vertexai) (1.3.1)\n",
            "Requirement already satisfied: pyasn1<0.7.0,>=0.4.6 in /usr/local/lib/python3.11/dist-packages (from pyasn1-modules>=0.2.1->google-auth<3.0.0dev,>=2.14.1->google-cloud-aiplatform<2.0.0,>=1.81.0->langchain-google-vertexai) (0.6.1)\n",
            "Requirement already satisfied: six>=1.5 in /usr/local/lib/python3.11/dist-packages (from python-dateutil<3.0dev,>=2.7.3->google-cloud-bigquery!=3.20.0,<4.0.0dev,>=1.15.0->google-cloud-aiplatform<2.0.0,>=1.81.0->langchain-google-vertexai) (1.17.0)\n"
          ]
        }
      ]
    },
    {
      "cell_type": "markdown",
      "source": [
        "Create a LangGraph Hotel Agent which can Search, Book and Cancel hotels."
      ],
      "metadata": {
        "id": "0oHNnZnBM8FU"
      }
    },
    {
      "cell_type": "code",
      "source": [
        "from langgraph.prebuilt import create_react_agent\n",
        "# TODO(developer): replace this with another import if needed\n",
        "from langchain_google_vertexai import ChatVertexAI\n",
        "# from langchain_google_genai import ChatGoogleGenerativeAI\n",
        "# from langchain_anthropic import ChatAnthropic\n",
        "from langgraph.checkpoint.memory import MemorySaver\n",
        "\n",
        "from toolbox_langchain import ToolboxClient\n",
        "\n",
        "prompt = \"\"\"\n",
        "  You're a helpful hotel assistant. You handle hotel searching, booking and\n",
        "  cancellations. When the user searches for a hotel, mention it's name, id,\n",
        "  location and price tier. Always mention hotel ids while performing any\n",
        "  searches. This is very important for any operations. For any bookings or\n",
        "  cancellations, please provide the appropriate confirmation. Be sure to\n",
        "  update checkin or checkout dates if mentioned by the user.\n",
        "  Don't ask for confirmations from the user.\n",
        "\"\"\"\n",
        "\n",
        "queries = [\n",
        "    \"Find hotels in Basel with Basel in it's name.\",\n",
        "    \"Can you book the Hilton Basel for me?\",\n",
        "    \"Oh wait, this is too expensive. Please cancel it and book the Hyatt Regency instead.\",\n",
        "    \"My check in dates would be from April 10, 2024 to April 19, 2024.\",\n",
        "]\n",
        "\n",
        "# Create an LLM to bind with the agent.\n",
        "# TODO(developer): replace this with another model if needed\n",
        "model = ChatVertexAI(model_name=\"gemini-1.5-pro\", project=project_id)\n",
        "# model = ChatGoogleGenerativeAI(model=\"gemini-1.5-pro\")\n",
        "# model = ChatAnthropic(model=\"claude-3-5-sonnet-20240620\")\n",
        "\n",
        "# Load the tools from the Toolbox server\n",
        "client = ToolboxClient(\"http://127.0.0.1:5000\")\n",
        "tools = client.load_toolset()\n",
        "\n",
        "# Create a Langraph agent\n",
        "agent = create_react_agent(model, tools, checkpointer=MemorySaver())\n",
        "config = {\"configurable\": {\"thread_id\": \"thread-1\"}}\n",
        "for query in queries:\n",
        "    inputs = {\"messages\": [(\"user\", prompt + query)]}\n",
        "    response = agent.invoke(inputs, stream_mode=\"values\", config=config)\n",
        "    print(response[\"messages\"][-1].content)"
      ],
      "metadata": {
        "colab": {
          "base_uri": "https://localhost:8080/"
        },
        "id": "Br3ucM46M9uc",
        "outputId": "3c163016-497a-4719-9680-7f3004c16081"
      },
      "execution_count": null,
      "outputs": [
        {
          "output_type": "stream",
          "name": "stdout",
          "text": [
            "I found 3 hotels in Basel: The Hilton Basel (id: 1) is a Luxury hotel, Hyatt Regency Basel (id: 3) is an Upper Upscale hotel and Holiday Inn Basel (id: 8) is an Upper Midscale hotel. Do you have any other requests? \n",
            "\n",
            "You are booked at the Hilton Basel. Have a great stay! \n",
            "\n",
            "Your booking at Hilton Basel has been cancelled and you are now booked at Hyatt Regency Basel. \n",
            "\n",
            "Your booking at Hyatt Regency Basel has been updated! Your new check-in date is April 10, 2024 and your new check-out date is April 19, 2024. \n",
            "\n"
          ]
        }
      ]
    },
    {
      "cell_type": "markdown",
      "source": [
        "### Connect using LlamaIndex"
      ],
      "metadata": {
        "id": "04iysrm_L_7v"
      }
    },
    {
      "cell_type": "code",
      "source": [
        "# Install the Toolbox LlamaIndex package\n",
        "!pip install toolbox-llamaindex --quiet\n",
        "\n",
        "# Install the llamaindex llm package\n",
        "# TODO(developer): replace this with another model if needed\n",
        "! pip install llama-index-llms-google-genai --quiet\n",
        "# ! pip install llama-index-llms-anthropic"
      ],
      "metadata": {
        "id": "6b6Loh8SJ_iA",
        "colab": {
          "base_uri": "https://localhost:8080/"
        },
        "outputId": "5b4ddda1-89bc-4c49-8703-4a0a073a1901"
      },
      "execution_count": null,
      "outputs": [
        {
          "output_type": "stream",
          "name": "stdout",
          "text": [
            "\u001b[?25l   \u001b[90m━━━━━━━━━━━━━━━━━━━━━━━━━━━━━━━━━━━━━━━━\u001b[0m \u001b[32m0.0/1.6 MB\u001b[0m \u001b[31m?\u001b[0m eta \u001b[36m-:--:--\u001b[0m\r\u001b[2K   \u001b[91m━━━━━━━━━━\u001b[0m\u001b[91m╸\u001b[0m\u001b[90m━━━━━━━━━━━━━━━━━━━━━━━━━━━━━\u001b[0m \u001b[32m0.4/1.6 MB\u001b[0m \u001b[31m13.6 MB/s\u001b[0m eta \u001b[36m0:00:01\u001b[0m\r\u001b[2K   \u001b[91m━━━━━━━━━━━━━━━━━━━━━━━━━━━━━━━━━━━━━━━\u001b[0m\u001b[91m╸\u001b[0m \u001b[32m1.6/1.6 MB\u001b[0m \u001b[31m28.9 MB/s\u001b[0m eta \u001b[36m0:00:01\u001b[0m\r\u001b[2K   \u001b[90m━━━━━━━━━━━━━━━━━━━━━━━━━━━━━━━━━━━━━━━━\u001b[0m \u001b[32m1.6/1.6 MB\u001b[0m \u001b[31m22.6 MB/s\u001b[0m eta \u001b[36m0:00:00\u001b[0m\n",
            "\u001b[2K   \u001b[90m━━━━━━━━━━━━━━━━━━━━━━━━━━━━━━━━━━━━━━━━\u001b[0m \u001b[32m40.4/40.4 kB\u001b[0m \u001b[31m2.8 MB/s\u001b[0m eta \u001b[36m0:00:00\u001b[0m\n",
            "\u001b[2K   \u001b[90m━━━━━━━━━━━━━━━━━━━━━━━━━━━━━━━━━━━━━━━━\u001b[0m \u001b[32m264.5/264.5 kB\u001b[0m \u001b[31m21.6 MB/s\u001b[0m eta \u001b[36m0:00:00\u001b[0m\n",
            "\u001b[2K   \u001b[90m━━━━━━━━━━━━━━━━━━━━━━━━━━━━━━━━━━━━━━━━\u001b[0m \u001b[32m302.3/302.3 kB\u001b[0m \u001b[31m24.0 MB/s\u001b[0m eta \u001b[36m0:00:00\u001b[0m\n",
            "\u001b[2K   \u001b[90m━━━━━━━━━━━━━━━━━━━━━━━━━━━━━━━━━━━━━━━━\u001b[0m \u001b[32m1.2/1.2 MB\u001b[0m \u001b[31m63.4 MB/s\u001b[0m eta \u001b[36m0:00:00\u001b[0m\n",
            "\u001b[2K   \u001b[90m━━━━━━━━━━━━━━━━━━━━━━━━━━━━━━━━━━━━━━━━\u001b[0m \u001b[32m50.9/50.9 kB\u001b[0m \u001b[31m4.0 MB/s\u001b[0m eta \u001b[36m0:00:00\u001b[0m\n",
            "\u001b[2K   \u001b[90m━━━━━━━━━━━━━━━━━━━━━━━━━━━━━━━━━━━━━━━━\u001b[0m \u001b[32m4.5/4.5 MB\u001b[0m \u001b[31m39.3 MB/s\u001b[0m eta \u001b[36m0:00:00\u001b[0m\n",
            "\u001b[?25h"
          ]
        }
      ]
    },
    {
      "cell_type": "markdown",
      "source": [
        "Create a LlamaIndex Hotel Agent which can Search, Book and Cancel hotels."
      ],
      "metadata": {
        "id": "zjsq_xXice11"
      }
    },
    {
      "cell_type": "code",
      "source": [
        "import asyncio\n",
        "import os\n",
        "\n",
        "from llama_index.core.agent.workflow import AgentWorkflow\n",
        "\n",
        "from llama_index.core.workflow import Context\n",
        "\n",
        "# TODO(developer): replace this with another import if needed\n",
        "from llama_index.llms.google_genai import GoogleGenAI\n",
        "# from llama_index.llms.anthropic import Anthropic\n",
        "\n",
        "from toolbox_llamaindex import ToolboxClient\n",
        "\n",
        "prompt = \"\"\"\n",
        "  You're a helpful hotel assistant. You handle hotel searching, booking and\n",
        "  cancellations. When the user searches for a hotel, mention it's name, id,\n",
        "  location and price tier. Always mention hotel ids while performing any\n",
        "  searches. This is very important for any operations. For any bookings or\n",
        "  cancellations, please provide the appropriate confirmation. Be sure to\n",
        "  update checkin or checkout dates if mentioned by the user.\n",
        "  Don't ask for confirmations from the user.\n",
        "\"\"\"\n",
        "\n",
        "queries = [\n",
        "    \"Find hotels in Basel with Basel in it's name.\",\n",
        "    \"Can you book the Hilton Basel for me?\",\n",
        "    \"Oh wait, this is too expensive. Please cancel it and book the Hyatt Regency instead.\",\n",
        "    \"My check in dates would be from April 10, 2024 to April 19, 2024.\",\n",
        "]\n",
        "\n",
        "async def run_agent():\n",
        "    # Create an LLM to bind with the agent.\n",
        "    # TODO(developer): replace this with another model if needed\n",
        "    llm = GoogleGenAI(\n",
        "        model=\"gemini-1.5-pro\",\n",
        "        vertexai_config={\"project\": project_id, \"location\": \"us-central1\"},\n",
        "    )\n",
        "    # llm = GoogleGenAI(\n",
        "    #     api_key=os.getenv(\"GOOGLE_API_KEY\"),\n",
        "    #     model=\"gemini-1.5-pro\",\n",
        "    # )\n",
        "    # llm = Anthropic(\n",
        "    #   model=\"claude-3-7-sonnet-latest\",\n",
        "    #   api_key=os.getenv(\"ANTHROPIC_API_KEY\")\n",
        "    # )\n",
        "\n",
        "    # Load the tools from the Toolbox server\n",
        "    client = ToolboxClient(\"http://127.0.0.1:5000\")\n",
        "    tools = client.load_toolset()\n",
        "\n",
        "    # Create a LlamaIndex agent\n",
        "    agent = AgentWorkflow.from_tools_or_functions(\n",
        "        tools,\n",
        "        llm=llm,\n",
        "        system_prompt=prompt,\n",
        "    )\n",
        "\n",
        "    # Run the agent\n",
        "    ctx = Context(agent)\n",
        "    for query in queries:\n",
        "        response = await agent.run(user_msg=query, ctx=ctx)\n",
        "        print(f\"---- {query} ----\")\n",
        "        print(str(response))\n",
        "\n",
        "await run_agent()"
      ],
      "metadata": {
        "colab": {
          "base_uri": "https://localhost:8080/"
        },
        "id": "EaBX4Dh6cU31",
        "outputId": "e41757b8-0f22-40a7-df5a-ffb626d6553b"
      },
      "execution_count": null,
      "outputs": [
        {
          "output_type": "stream",
          "name": "stdout",
          "text": [
            "---- Find hotels in Basel with Basel in it's name. ----\n",
            "I found 3 hotels in Basel: \n",
            "Hotel id 1 - Hilton Basel, located in Basel. It's a Luxury hotel.\n",
            "Hotel id 3 - Hyatt Regency Basel, located in Basel. It's a Upper Upscale hotel.\n",
            "Hotel id 8 - Holiday Inn Basel, located in Basel. It's a Upper Midscale hotel. \n",
            "\n",
            "---- Can you book the Hilton Basel for me? ----\n",
            "You are all set. The Hilton Basel is booked for you. \n",
            "\n",
            "---- Oh wait, this is too expensive. Please cancel it and book the Hyatt Regency instead. ----\n",
            "The Hilton Basel is cancelled and Hyatt Regency Basel is booked for you. \n",
            "\n",
            "---- My check in dates would be from April 10, 2024 to April 19, 2024. ----\n",
            "Your booking for Hyatt Regency Basel has been updated with the new check-in and check-out dates. \n",
            "\n"
          ]
        }
      ]
    },
    {
      "cell_type": "markdown",
      "source": [
        "### Observe the output\n",
        "\n",
        "You can see that the `Hyatt Regency Basel` has been booked for the correct dates."
      ],
      "metadata": {
        "id": "Kd-wF_Z9vVe3"
      }
    },
    {
      "cell_type": "code",
      "source": [
        "%%shell\n",
        "\n",
        "export PGPASSWORD=my-password\n",
        "psql -h 127.0.0.1 -U toolbox_user -d toolbox_db --no-password << EOF\n",
        "SELECT * from hotels;\n",
        "EOF"
      ],
      "metadata": {
        "colab": {
          "base_uri": "https://localhost:8080/"
        },
        "id": "ZTW9bTUoqHis",
        "outputId": "ef893542-ad32-4ae7-d5e6-590c470dc55f"
      },
      "execution_count": null,
      "outputs": [
        {
          "output_type": "stream",
          "name": "stdout",
          "text": [
            " id |          name           | location |   price_tier   | checkin_date | checkout_date | booked \n",
            "----+-------------------------+----------+----------------+--------------+---------------+--------\n",
            "  2 | Marriott Zurich         | Zurich   | Upscale        | 2024-04-14   | 2024-04-21    | 0\n",
            "  4 | Radisson Blu Lucerne    | Lucerne  | Midscale       | 2024-04-24   | 2024-04-05    | 0\n",
            "  5 | Best Western Bern       | Bern     | Upper Midscale | 2024-04-23   | 2024-04-01    | 0\n",
            "  6 | InterContinental Geneva | Geneva   | Luxury         | 2024-04-23   | 2024-04-28    | 0\n",
            "  7 | Sheraton Zurich         | Zurich   | Upper Upscale  | 2024-04-27   | 2024-04-02    | 0\n",
            "  8 | Holiday Inn Basel       | Basel    | Upper Midscale | 2024-04-24   | 2024-04-09    | 0\n",
            "  9 | Courtyard Zurich        | Zurich   | Upscale        | 2024-04-03   | 2024-04-13    | 0\n",
            " 10 | Comfort Inn Bern        | Bern     | Midscale       | 2024-04-04   | 2024-04-16    | 0\n",
            "  1 | Hilton Basel            | Basel    | Luxury         | 2024-04-22   | 2024-04-20    | 0\n",
            "  3 | Hyatt Regency Basel     | Basel    | Upper Upscale  | 2024-04-10   | 2024-04-19    | 1\n",
            "(10 rows)\n",
            "\n"
          ]
        },
        {
          "output_type": "execute_result",
          "data": {
            "text/plain": []
          },
          "metadata": {},
          "execution_count": 23
        }
      ]
    },
    {
      "cell_type": "markdown",
      "source": [
        "## Optional: Cleanup"
      ],
      "metadata": {
        "id": "qV36Do-Bub12"
      }
    },
    {
      "cell_type": "markdown",
      "source": [
        "Executing this will terminate the processes running on the database and Toolbox ports.\n",
        "\n",
        "This is necessary before re-running the startup cells for these services to prevent `port already in use` errors."
      ],
      "metadata": {
        "id": "yatf9YoGclV9"
      }
    },
    {
      "cell_type": "code",
      "source": [
        "import subprocess\n",
        "import os\n",
        "import signal\n",
        "\n",
        "def kill_processes_on_port(port):\n",
        "    \"\"\"Kills all processes listening on a given port using lsof and kill.\n",
        "\n",
        "    Args:\n",
        "        port: The port number (as an integer).\n",
        "    \"\"\"\n",
        "    try:\n",
        "        result = subprocess.run(['lsof', '-t', '-i', f':{port}'], capture_output=True, text=True, check=True)\n",
        "        pids_str = result.stdout.strip()\n",
        "\n",
        "        if not pids_str:\n",
        "            print(f\"No processes found listening on port {port}.\")\n",
        "            return\n",
        "\n",
        "        pids = [int(pid) for pid in pids_str.split('\\n')]\n",
        "        print(f\"Found processes on port {port}: {pids}\")\n",
        "\n",
        "        for pid in pids:\n",
        "            try:\n",
        "                os.kill(pid, signal.SIGKILL)\n",
        "                print(f\"Process {pid} killed.\")\n",
        "            except OSError as e:\n",
        "                print(f\"Error killing process {pid}: {e}\")\n",
        "\n",
        "    except subprocess.CalledProcessError as e:\n",
        "        print(f\"Error running lsof: {e}\")\n",
        "        print(f\"lsof output: {e.output}\")\n",
        "    except Exception as e:\n",
        "        print(f\"An unexpected error occurred: {e}\")"
      ],
      "metadata": {
        "id": "CWjhViHQuAiA"
      },
      "execution_count": null,
      "outputs": []
    },
    {
      "cell_type": "code",
      "source": [
        "kill_processes_on_port(5432)"
      ],
      "metadata": {
        "colab": {
          "base_uri": "https://localhost:8080/"
        },
        "id": "tnP9Z5kdueQw",
        "outputId": "5698dac4-20eb-4cc7-9c5b-9f3924c0795c"
      },
      "execution_count": null,
      "outputs": [
        {
          "output_type": "stream",
          "name": "stdout",
          "text": [
            "Found processes on port 5432: [3572, 3622, 3629]\n",
            "Process 3572 killed.\n",
            "Process 3622 killed.\n",
            "Process 3629 killed.\n"
          ]
        }
      ]
    },
    {
      "cell_type": "code",
      "source": [
        "# Verify that the database process is killed\n",
        "!sudo lsof -i :5432"
      ],
      "metadata": {
        "id": "D09SAmLzufwO"
      },
      "execution_count": null,
      "outputs": []
    }
  ]
}